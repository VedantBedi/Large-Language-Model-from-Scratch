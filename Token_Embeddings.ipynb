{
 "cells": [
  {
   "cell_type": "code",
   "execution_count": null,
   "id": "410a77a6",
   "metadata": {},
   "outputs": [],
   "source": [
    "#pip install gensim"
   ]
  },
  {
   "cell_type": "code",
   "execution_count": null,
   "id": "a7fa6b30",
   "metadata": {},
   "outputs": [],
   "source": [
    "import gensim.downloader as api\n",
    "import numpy as np\n",
    "model = api.load(\"word2vec-google-news-300\")"
   ]
  },
  {
   "cell_type": "code",
   "execution_count": null,
   "id": "cdb9910b",
   "metadata": {},
   "outputs": [],
   "source": [
    "word_vectors = model\n",
    "\n",
    "print(word_vectors['computer'])"
   ]
  },
  {
   "cell_type": "code",
   "execution_count": null,
   "id": "19d7b7ee",
   "metadata": {},
   "outputs": [],
   "source": [
    "# Using Most Similar\n",
    "print(word_vectors.most_similar('computer', topn=5))"
   ]
  },
  {
   "cell_type": "code",
   "execution_count": null,
   "id": "637a63a0",
   "metadata": {},
   "outputs": [],
   "source": [
    "print(word_vectors.most_similar(positive = ['king', 'woman'], negative = ['man'], topn=5))"
   ]
  },
  {
   "cell_type": "code",
   "execution_count": null,
   "id": "e769e98e",
   "metadata": {},
   "outputs": [],
   "source": [
    "print(word_vectors.similarity('king', 'queen'))"
   ]
  },
  {
   "cell_type": "code",
   "execution_count": null,
   "id": "d80b84d8",
   "metadata": {},
   "outputs": [],
   "source": [
    "# Now we will find magnitude of the word vector difference\n",
    "print(np.linalg.norm(word_vectors['king'] - word_vectors['queen']))\n"
   ]
  },
  {
   "cell_type": "code",
   "execution_count": null,
   "id": "42e6bfd0",
   "metadata": {},
   "outputs": [],
   "source": [
    "# Making a custom embedding\n",
    "import torch\n",
    "inpute_tensor = torch.tensor([[1, 2, 3], [4, 5, 6], [7, 8, 9]])\n",
    "\n",
    "vocab_size = 6\n",
    "output_dim = 3\n",
    "\n",
    "torch.manual_seed(42)\n",
    "embedding = torch.nn.Embedding(vocab_size, output_dim)\n",
    "\n",
    "print(embedding(inpute_tensor))\n",
    "\n",
    "\n"
   ]
  },
  {
   "cell_type": "code",
   "execution_count": null,
   "id": "d29c9a53",
   "metadata": {},
   "outputs": [],
   "source": []
  },
  {
   "cell_type": "code",
   "execution_count": null,
   "id": "2aa20101",
   "metadata": {},
   "outputs": [],
   "source": []
  },
  {
   "cell_type": "code",
   "execution_count": null,
   "id": "5c513937",
   "metadata": {},
   "outputs": [],
   "source": []
  }
 ],
 "metadata": {
  "language_info": {
   "name": "python"
  }
 },
 "nbformat": 4,
 "nbformat_minor": 5
}
