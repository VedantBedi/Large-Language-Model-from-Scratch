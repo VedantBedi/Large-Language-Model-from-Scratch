{
 "cells": [
  {
   "cell_type": "code",
   "execution_count": 2,
   "id": "1f74cffd",
   "metadata": {},
   "outputs": [],
   "source": [
    "import math\n",
    "import torch\n",
    "class GELU(nn.Module):\n",
    "    def __init__(self):\n",
    "        super(GELU, self).__init__()\n",
    "\n",
    "    def forward(self, x):\n",
    "        return x * 0.5 * (1.0 + torch.tanh(\n",
    "            (math.sqrt(2 / math.pi) * (x + 0.044715 * torch.pow(x, 3)))\n",
    "        ))"
   ]
  },
  {
   "cell_type": "code",
   "execution_count": 1,
   "id": "4c67a430",
   "metadata": {},
   "outputs": [],
   "source": [
    "import torch.nn as nn\n",
    "class FeedForward(nn.Module):\n",
    "    def __init__(self, dim, dropout=0.0):\n",
    "        super(FeedForward, self).__init__()\n",
    "        self.linear1 = nn.Linear(dim, 4*dim)\n",
    "        self.gelu = GELU()\n",
    "        self.linear2 = nn.Linear(4*dim, dim)\n",
    "        self.dropout = nn.Dropout(dropout)\n",
    "\n",
    "    def forward(self, x):\n",
    "        x = self.linear1(x)\n",
    "        x = self.gelu(x)\n",
    "        x = self.dropout(x)\n",
    "        x = self.linear2(x)\n",
    "        return x"
   ]
  },
  {
   "cell_type": "code",
   "execution_count": null,
   "id": "bef98a26",
   "metadata": {},
   "outputs": [],
   "source": [
    "# Sometimes shortcut connections are used in the feedforward network to # allow gradients to flow more easily through the network."
   ]
  },
  {
   "cell_type": "code",
   "execution_count": null,
   "id": "b58396d8",
   "metadata": {},
   "outputs": [],
   "source": []
  },
  {
   "cell_type": "code",
   "execution_count": null,
   "id": "c9ab6c19",
   "metadata": {},
   "outputs": [],
   "source": []
  },
  {
   "cell_type": "code",
   "execution_count": null,
   "id": "91becccb",
   "metadata": {},
   "outputs": [],
   "source": []
  }
 ],
 "metadata": {
  "kernelspec": {
   "display_name": "Python 3",
   "language": "python",
   "name": "python3"
  },
  "language_info": {
   "codemirror_mode": {
    "name": "ipython",
    "version": 3
   },
   "file_extension": ".py",
   "mimetype": "text/x-python",
   "name": "python",
   "nbconvert_exporter": "python",
   "pygments_lexer": "ipython3",
   "version": "3.9.6"
  }
 },
 "nbformat": 4,
 "nbformat_minor": 5
}
