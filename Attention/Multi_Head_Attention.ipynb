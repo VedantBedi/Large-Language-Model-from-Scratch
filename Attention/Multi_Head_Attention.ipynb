{
 "cells": [
  {
   "cell_type": "code",
   "execution_count": 2,
   "id": "66e0bde5",
   "metadata": {},
   "outputs": [],
   "source": [
    "import torch\n",
    "# Multi head attention is just multiple single head attention\n",
    "class MultiHeadAttention:\n",
    "    def __init__(self, num_heads, head_size):\n",
    "        self.num_heads = num_heads\n",
    "        self.head_size = head_size\n",
    "\n",
    "    def forward(self, queries, keys, values):\n",
    "        # Split the inputs into multiple heads\n",
    "        batch_size = queries.shape[0]\n",
    "        queries = queries.view(batch_size, -1, self.num_heads, self.head_size).transpose(1, 2)\n",
    "        keys = keys.view(batch_size, -1, self.num_heads, self.head_size).transpose(1, 2)\n",
    "        values = values.view(batch_size, -1, self.num_heads, self.head_size).transpose(1, 2)\n",
    "\n",
    "        # Perform single head attention for each head\n",
    "        outputs = []\n",
    "        for i in range(self.num_heads):\n",
    "            output = self.single_head_attention(queries[:, i], keys[:, i], values[:, i])\n",
    "            outputs.append(output)\n",
    "\n",
    "        # Concatenate the outputs from all heads\n",
    "        return torch.cat(outputs, dim=-1)\n",
    "\n",
    "    def single_head_attention(self, query, key, value):\n",
    "        # Implement single head attention logic here\n",
    "        attention_scores = torch.matmul(query, key.transpose(-2, -1)) / (self.head_size ** 0.5)\n",
    "        attention_weights = torch.nn.functional.softmax(attention_scores, dim=-1)\n",
    "        output = torch.matmul(attention_weights, value)\n",
    "        return output\n",
    "    "
   ]
  },
  {
   "cell_type": "code",
   "execution_count": 4,
   "id": "b88d34aa",
   "metadata": {},
   "outputs": [
    {
     "name": "stdout",
     "output_type": "stream",
     "text": [
      "torch.Size([2, 10, 64])\n",
      "tensor([[[ 0.5545,  0.3625,  0.2356,  ..., -0.1696,  0.2542,  0.9349],\n",
      "         [-0.2540,  0.2386, -0.3160,  ..., -0.4753, -0.0434,  0.5628],\n",
      "         [ 0.9996,  0.8392,  0.3020,  ..., -0.1834,  0.8125,  0.3112],\n",
      "         ...,\n",
      "         [-1.0645,  0.4282,  0.1393,  ..., -0.3102,  0.1344,  0.4881],\n",
      "         [-0.7822,  0.5139,  0.0188,  ..., -0.4683, -0.0082, -0.5034],\n",
      "         [ 0.4240, -0.5624, -0.1818,  ..., -0.1887,  0.5831,  0.3837]],\n",
      "\n",
      "        [[-1.1466,  0.3671,  0.0050,  ..., -1.0981, -0.1420, -0.3580],\n",
      "         [ 1.0708,  0.0838,  0.4759,  ..., -1.1877,  0.0113,  0.2362],\n",
      "         [-0.0442,  0.0201, -1.1163,  ...,  0.0133,  1.1793, -0.1848],\n",
      "         ...,\n",
      "         [-0.1741,  1.7254, -1.7822,  ...,  1.4998,  0.0876, -0.6872],\n",
      "         [ 0.5054,  0.4028,  0.2271,  ..., -0.7465, -0.4857, -0.0780],\n",
      "         [-0.2361,  0.7216, -0.4721,  ..., -2.4264,  0.2613, -0.2558]]])\n"
     ]
    }
   ],
   "source": [
    "input = torch.randn(2, 10, 64)  # Example input with batch size 2, sequence length 10, and embedding size 64\n",
    "mha = MultiHeadAttention(num_heads=8, head_size=8)  # 8 heads, each of size 8\n",
    "context_vec = mha.forward(input, input, input)  # Using the same input for queries, keys, and values\n",
    "print(context_vec.shape)  # Should be (2, 10, 64) since we concatenate the outputs from all heads\n",
    "print(context_vec)"
   ]
  },
  {
   "cell_type": "code",
   "execution_count": 6,
   "id": "621d4146",
   "metadata": {},
   "outputs": [],
   "source": [
    "# Another implementation \n",
    "import torch.nn as nn\n",
    "class MultiHeadAttention(nn.Module):\n",
    "    def __init__(self, d_in, d_out, context_length, dropout, num_heads, qkv_bias=False):\n",
    "        super().__init__()\n",
    "        assert (d_out % num_heads == 0), \\\n",
    "            \"d_out must be divisible by num_heads\"\n",
    "\n",
    "        self.d_out = d_out\n",
    "        self.num_heads = num_heads\n",
    "        self.head_dim = d_out // num_heads # Reduce the projection dim to match desired output dim\n",
    "\n",
    "        self.W_query = nn.Linear(d_in, d_out, bias=qkv_bias)\n",
    "        self.W_key = nn.Linear(d_in, d_out, bias=qkv_bias)\n",
    "        self.W_value = nn.Linear(d_in, d_out, bias=qkv_bias)\n",
    "        self.out_proj = nn.Linear(d_out, d_out)  # Linear layer to combine head outputs\n",
    "        self.dropout = nn.Dropout(dropout)\n",
    "        self.register_buffer(\n",
    "            \"mask\",\n",
    "            torch.triu(torch.ones(context_length, context_length),\n",
    "                       diagonal=1)\n",
    "        )\n",
    "\n",
    "    def forward(self, x):\n",
    "        b, num_tokens, d_in = x.shape\n",
    "\n",
    "        keys = self.W_key(x) # Shape: (b, num_tokens, d_out)\n",
    "        queries = self.W_query(x)\n",
    "        values = self.W_value(x)\n",
    "\n",
    "        # We implicitly split the matrix by adding a `num_heads` dimension\n",
    "        # Unroll last dim: (b, num_tokens, d_out) -> (b, num_tokens, num_heads, head_dim)\n",
    "        keys = keys.view(b, num_tokens, self.num_heads, self.head_dim) \n",
    "        values = values.view(b, num_tokens, self.num_heads, self.head_dim)\n",
    "        queries = queries.view(b, num_tokens, self.num_heads, self.head_dim)\n",
    "\n",
    "        # Transpose: (b, num_tokens, num_heads, head_dim) -> (b, num_heads, num_tokens, head_dim)\n",
    "        keys = keys.transpose(1, 2)\n",
    "        queries = queries.transpose(1, 2)\n",
    "        values = values.transpose(1, 2)\n",
    "\n",
    "        # Compute scaled dot-product attention (aka self-attention) with a causal mask\n",
    "        attn_scores = queries @ keys.transpose(2, 3)  # Dot product for each head\n",
    "\n",
    "        # Original mask truncated to the number of tokens and converted to boolean\n",
    "        mask_bool = self.mask.bool()[:num_tokens, :num_tokens]\n",
    "\n",
    "        # Use the mask to fill attention scores\n",
    "        attn_scores.masked_fill_(mask_bool, -torch.inf)\n",
    "        \n",
    "        attn_weights = torch.softmax(attn_scores / keys.shape[-1]**0.5, dim=-1)\n",
    "        attn_weights = self.dropout(attn_weights)\n",
    "\n",
    "        # Shape: (b, num_tokens, num_heads, head_dim)\n",
    "        context_vec = (attn_weights @ values).transpose(1, 2) \n",
    "        \n",
    "        # Combine heads, where self.d_out = self.num_heads * self.head_dim\n",
    "        context_vec = context_vec.contiguous().view(b, num_tokens, self.d_out)\n",
    "        context_vec = self.out_proj(context_vec) # optional projection\n",
    "\n",
    "        return context_vec"
   ]
  },
  {
   "cell_type": "code",
   "execution_count": 7,
   "id": "80c84b3c",
   "metadata": {},
   "outputs": [
    {
     "name": "stdout",
     "output_type": "stream",
     "text": [
      "torch.Size([2, 3, 6])\n"
     ]
    }
   ],
   "source": [
    "torch.manual_seed(123)\n",
    "\n",
    "# Define the tensor with 3 rows and 6 columns\n",
    "inputs = torch.tensor( # (1,3,6)\n",
    "    [[0.43, 0.15, 0.89, 0.55, 0.87, 0.66],  # Row 1\n",
    "     [0.57, 0.85, 0.64, 0.22, 0.58, 0.33],  # Row 2\n",
    "     [0.77, 0.25, 0.10, 0.05, 0.80, 0.55]]  # Row 3\n",
    ")\n",
    "batch = torch.stack((inputs, inputs), dim=0)\n",
    "print(batch.shape) # Should be (2, 3, 6) since we stacked two identical inputs"
   ]
  },
  {
   "cell_type": "code",
   "execution_count": 8,
   "id": "7cf335ce",
   "metadata": {},
   "outputs": [
    {
     "name": "stdout",
     "output_type": "stream",
     "text": [
      "tensor([[[ 0.1569, -0.0873,  0.0210,  0.0215, -0.3243, -0.2518],\n",
      "         [ 0.1117, -0.0547,  0.0406, -0.0213, -0.3251, -0.2993],\n",
      "         [ 0.1196, -0.0491,  0.0318, -0.0635, -0.2788, -0.2578]],\n",
      "\n",
      "        [[ 0.1569, -0.0873,  0.0210,  0.0215, -0.3243, -0.2518],\n",
      "         [ 0.1117, -0.0547,  0.0406, -0.0213, -0.3251, -0.2993],\n",
      "         [ 0.1196, -0.0491,  0.0318, -0.0635, -0.2788, -0.2578]]],\n",
      "       grad_fn=<ViewBackward0>)\n",
      "context_vecs.shape: torch.Size([2, 3, 6])\n"
     ]
    }
   ],
   "source": [
    "batch_size, context_length, d_in = batch.shape\n",
    "d_out = 6\n",
    "mha = MultiHeadAttention(d_in, d_out, context_length, 0.0, num_heads=2)\n",
    "context_vecs = mha(batch)\n",
    "print(context_vecs)\n",
    "print(\"context_vecs.shape:\", context_vecs.shape)"
   ]
  },
  {
   "cell_type": "code",
   "execution_count": null,
   "id": "3a6c866d",
   "metadata": {},
   "outputs": [],
   "source": []
  },
  {
   "cell_type": "code",
   "execution_count": null,
   "id": "adb92d04",
   "metadata": {},
   "outputs": [],
   "source": []
  },
  {
   "cell_type": "code",
   "execution_count": null,
   "id": "4ceb8681",
   "metadata": {},
   "outputs": [],
   "source": []
  },
  {
   "cell_type": "code",
   "execution_count": null,
   "id": "726ffacc",
   "metadata": {},
   "outputs": [],
   "source": []
  },
  {
   "cell_type": "code",
   "execution_count": null,
   "id": "21bb9b8b",
   "metadata": {},
   "outputs": [],
   "source": []
  },
  {
   "cell_type": "code",
   "execution_count": null,
   "id": "4787abff",
   "metadata": {},
   "outputs": [],
   "source": []
  }
 ],
 "metadata": {
  "kernelspec": {
   "display_name": "Python 3",
   "language": "python",
   "name": "python3"
  },
  "language_info": {
   "codemirror_mode": {
    "name": "ipython",
    "version": 3
   },
   "file_extension": ".py",
   "mimetype": "text/x-python",
   "name": "python",
   "nbconvert_exporter": "python",
   "pygments_lexer": "ipython3",
   "version": "3.9.6"
  }
 },
 "nbformat": 4,
 "nbformat_minor": 5
}
