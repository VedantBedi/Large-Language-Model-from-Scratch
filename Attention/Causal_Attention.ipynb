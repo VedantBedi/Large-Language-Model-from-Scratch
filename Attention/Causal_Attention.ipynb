{
 "cells": [
  {
   "cell_type": "code",
   "execution_count": 1,
   "id": "76413787",
   "metadata": {},
   "outputs": [],
   "source": [
    "import torch\n",
    "\n",
    "inputs = torch.tensor(\n",
    "    [[0.43, 0.5, 0.57], # your\n",
    "    [0.5, 0.6, 0.7],    # x_2\n",
    "    [0.57, 0.7, 0.8],\n",
    "    [0.6, 0.7, 0.8],      \n",
    "    [0.7, 0.8, 0.9],\n",
    "    [0.8, 0.9, 1.0]],\n",
    "    dtype=torch.float32\n",
    ")"
   ]
  },
  {
   "cell_type": "code",
   "execution_count": 2,
   "id": "03ef8d31",
   "metadata": {},
   "outputs": [],
   "source": [
    "x_2 = inputs[1]\n",
    "d_in = inputs.shape[1]\n",
    "d_out = 2"
   ]
  },
  {
   "cell_type": "code",
   "execution_count": 3,
   "id": "18b4f1fe",
   "metadata": {},
   "outputs": [],
   "source": [
    "# Now we initialize the q, k, v matrices\n",
    "torch.manual_seed(0)  # For reproducibility\n",
    "W_query = torch.nn.Parameter(torch.rand(d_in, d_out), requires_grad=False) # d_input = 3, d_model = 3\n",
    "W_key = torch.nn.Parameter(torch.rand(d_in, d_out), requires_grad=False)\n",
    "W_value = torch.nn.Parameter(torch.rand(d_in, d_out), requires_grad=False)\n"
   ]
  },
  {
   "cell_type": "code",
   "execution_count": 4,
   "id": "20294202",
   "metadata": {},
   "outputs": [
    {
     "name": "stdout",
     "output_type": "stream",
     "text": [
      "W_query: Parameter containing:\n",
      "tensor([[0.4963, 0.7682],\n",
      "        [0.0885, 0.1320],\n",
      "        [0.3074, 0.6341]])\n"
     ]
    }
   ],
   "source": [
    "print(\"W_query:\", W_query)"
   ]
  },
  {
   "cell_type": "code",
   "execution_count": 5,
   "id": "36898456",
   "metadata": {},
   "outputs": [
    {
     "name": "stdout",
     "output_type": "stream",
     "text": [
      "query_2: tensor([0.5164, 0.9072])\n"
     ]
    }
   ],
   "source": [
    "query_2 = x_2 @ W_query\n",
    "key_2 = x_2 @ W_key\n",
    "value_2 = x_2 @ W_value\n",
    "print(\"query_2:\", query_2)"
   ]
  },
  {
   "cell_type": "code",
   "execution_count": 6,
   "id": "b1c01c36",
   "metadata": {},
   "outputs": [
    {
     "name": "stdout",
     "output_type": "stream",
     "text": [
      "keys: torch.Size([6, 2])\n",
      "queries: torch.Size([6, 2])\n",
      "values: torch.Size([6, 2])\n"
     ]
    }
   ],
   "source": [
    "keys = inputs @ W_key\n",
    "queries = inputs @ W_query\n",
    "values = inputs @ W_value\n",
    "print(\"keys:\", keys.shape)\n",
    "print(\"queries:\", queries.shape)\n",
    "print(\"values:\", values.shape)"
   ]
  },
  {
   "cell_type": "code",
   "execution_count": 7,
   "id": "369cc9fa",
   "metadata": {},
   "outputs": [],
   "source": [
    "# These embeddings have been projected from a 3D space to a 2D space. ( d_in = 3, d_out = 2 )"
   ]
  },
  {
   "cell_type": "code",
   "execution_count": 8,
   "id": "acb20155",
   "metadata": {},
   "outputs": [
    {
     "name": "stdout",
     "output_type": "stream",
     "text": [
      "attn_score_2: tensor(1.3997)\n"
     ]
    }
   ],
   "source": [
    "keys_2 = keys[1]\n",
    "attn_score_22 = query_2.dot(keys_2) # Compute attention score\n",
    "print(\"attn_score_2:\", attn_score_22)"
   ]
  },
  {
   "cell_type": "code",
   "execution_count": 9,
   "id": "0ca8ac0e",
   "metadata": {},
   "outputs": [
    {
     "name": "stdout",
     "output_type": "stream",
     "text": [
      "attn_scores_2: tensor([1.1734, 1.3997, 1.6097, 1.6417, 1.8837, 2.1257])\n"
     ]
    }
   ],
   "source": [
    "attn_scores_2 = query_2 @ keys.T  # Compute attention scores for all pairs\n",
    "print(\"attn_scores_2:\", attn_scores_2)"
   ]
  },
  {
   "cell_type": "code",
   "execution_count": 10,
   "id": "665f4563",
   "metadata": {},
   "outputs": [
    {
     "name": "stdout",
     "output_type": "stream",
     "text": [
      "attn_scores: tensor([[0.9811, 1.1703, 1.3459, 1.3727, 1.5750, 1.7773],\n",
      "        [1.1734, 1.3997, 1.6097, 1.6417, 1.8837, 2.1257],\n",
      "        [1.3421, 1.6010, 1.8412, 1.8778, 2.1545, 2.4313],\n",
      "        [1.3731, 1.6379, 1.8836, 1.9211, 2.2042, 2.4874],\n",
      "        [1.5727, 1.8761, 2.1575, 2.2004, 2.5247, 2.8490],\n",
      "        [1.7724, 2.1142, 2.4314, 2.4797, 2.8452, 3.2107]])\n"
     ]
    }
   ],
   "source": [
    "attn_scores = queries @ keys.T  # Compute attention scores for all inputs\n",
    "print(\"attn_scores:\", attn_scores)"
   ]
  },
  {
   "cell_type": "code",
   "execution_count": 11,
   "id": "b4ca4e9e",
   "metadata": {},
   "outputs": [
    {
     "name": "stdout",
     "output_type": "stream",
     "text": [
      "attn_scores_2 (scaled): tensor([0.8297, 0.9898, 1.1382, 1.1609, 1.3320, 1.5031])\n",
      "attn_weights_2: tensor([0.1171, 0.1374, 0.1594, 0.1630, 0.1935, 0.2296])\n"
     ]
    }
   ],
   "source": [
    "# Now we will get attention weights by scaling by the square root of d_out\n",
    "attn_scores_2 = attn_scores_2 / (d_out ** 0.5)  # Scale the attention scores\n",
    "print(\"attn_scores_2 (scaled):\", attn_scores_2)\n",
    "attn_weights_2 = torch.softmax(attn_scores_2, dim=0)  # Softmax over the attention scores\n",
    "print(\"attn_weights_2:\", attn_weights_2)"
   ]
  },
  {
   "cell_type": "code",
   "execution_count": 12,
   "id": "4ff6820f",
   "metadata": {},
   "outputs": [],
   "source": [
    "# Now we will calculate the context vector"
   ]
  },
  {
   "cell_type": "code",
   "execution_count": 13,
   "id": "e253db21",
   "metadata": {},
   "outputs": [
    {
     "name": "stdout",
     "output_type": "stream",
     "text": [
      "context_2: tensor([0.8033, 1.1431])\n"
     ]
    }
   ],
   "source": [
    "context_2 = attn_weights_2 @ values  # Weighted sum of values\n",
    "print(\"context_2:\", context_2)"
   ]
  },
  {
   "cell_type": "code",
   "execution_count": 14,
   "id": "62644e1b",
   "metadata": {},
   "outputs": [],
   "source": [
    "import torch.nn as nn\n",
    "# Now we will compile this into a class\n",
    "class SelfAttention_v1(nn.Module):\n",
    "    def __init__(self, d_in, d_out):\n",
    "        super(SelfAttention_v1, self).__init__()\n",
    "        self.W_query = torch.nn.Parameter(torch.rand(d_in, d_out), requires_grad=False)\n",
    "        self.W_key = torch.nn.Parameter(torch.rand(d_in, d_out), requires_grad=False)\n",
    "        self.W_value = torch.nn.Parameter(torch.rand(d_in, d_out), requires_grad=False)\n",
    "\n",
    "    def forward(self, inputs):\n",
    "        queries = inputs @ self.W_query\n",
    "        keys = inputs @ self.W_key\n",
    "        values = inputs @ self.W_value\n",
    "        \n",
    "        attn_scores = queries @ keys.T\n",
    "        attn_scores = attn_scores / (self.W_query.shape[1] ** 0.5)\n",
    "        attn_weights = torch.softmax(attn_scores, dim=0)\n",
    "        \n",
    "        context = attn_weights @ values\n",
    "        return context"
   ]
  },
  {
   "cell_type": "code",
   "execution_count": 15,
   "id": "a05e8f21",
   "metadata": {},
   "outputs": [
    {
     "name": "stdout",
     "output_type": "stream",
     "text": [
      "context_v1: tensor([[0.5045, 0.7172],\n",
      "        [0.6124, 0.8707],\n",
      "        [0.7267, 1.0334],\n",
      "        [0.7500, 1.0664],\n",
      "        [0.9197, 1.3079],\n",
      "        [1.1293, 1.6061]])\n"
     ]
    }
   ],
   "source": [
    "torch.manual_seed(0)  # For reproducibility\n",
    "sa_v1 = SelfAttention_v1(d_in, d_out)\n",
    "context_v1 = sa_v1(inputs)\n",
    "print(\"context_v1:\", context_v1)"
   ]
  },
  {
   "cell_type": "code",
   "execution_count": 16,
   "id": "60920bed",
   "metadata": {},
   "outputs": [],
   "source": [
    "# This is the self Attention mechanism implemented in a class."
   ]
  },
  {
   "cell_type": "code",
   "execution_count": 25,
   "id": "6c243513",
   "metadata": {},
   "outputs": [],
   "source": [
    "import torch.nn as nn\n",
    "class SelfAttention_v2(nn.Module):\n",
    "    def __init__(self, d_in, d_out):\n",
    "        super(SelfAttention_v2, self).__init__()\n",
    "        self.W_query = torch.nn.Parameter(torch.rand(d_in, d_out), requires_grad=False)\n",
    "        self.W_key = torch.nn.Parameter(torch.rand(d_in, d_out), requires_grad=False)\n",
    "        self.W_value = torch.nn.Parameter(torch.rand(d_in, d_out), requires_grad=False)\n",
    "\n",
    "    def forward(self, inputs):\n",
    "        queries = inputs @ self.W_query\n",
    "        keys = inputs @ self.W_key\n",
    "        values = inputs @ self.W_value\n",
    "        \n",
    "        attn_scores = queries @ keys.T\n",
    "        attn_scores = attn_scores / (self.W_query.shape[1] ** 0.5)\n",
    "        attn_weights = torch.softmax(attn_scores, dim=0)\n",
    "        \n",
    "        context = attn_weights @ values\n",
    "        return attn_weights"
   ]
  },
  {
   "cell_type": "code",
   "execution_count": 26,
   "id": "405e3191",
   "metadata": {},
   "outputs": [
    {
     "name": "stdout",
     "output_type": "stream",
     "text": [
      "attn_weights_v2: tensor([[0.1246, 0.1174, 0.1109, 0.1099, 0.1028, 0.0961],\n",
      "        [0.1428, 0.1380, 0.1336, 0.1330, 0.1279, 0.1229],\n",
      "        [0.1608, 0.1591, 0.1574, 0.1571, 0.1549, 0.1526],\n",
      "        [0.1644, 0.1634, 0.1622, 0.1620, 0.1605, 0.1587],\n",
      "        [0.1893, 0.1933, 0.1969, 0.1974, 0.2013, 0.2050],\n",
      "        [0.2180, 0.2288, 0.2389, 0.2405, 0.2525, 0.2647]])\n"
     ]
    }
   ],
   "source": [
    "torch.manual_seed(0)  # For reproducibility\n",
    "sa_v2 = SelfAttention_v2(d_in, d_out)\n",
    "attn_weights_v2 = sa_v2(inputs)\n",
    "print(\"attn_weights_v2:\", attn_weights_v2)\n"
   ]
  },
  {
   "cell_type": "code",
   "execution_count": 27,
   "id": "5a377cd3",
   "metadata": {},
   "outputs": [
    {
     "name": "stdout",
     "output_type": "stream",
     "text": [
      "tensor([[0.9811, 0.0000, 0.0000, 0.0000, 0.0000, 0.0000],\n",
      "        [1.1734, 1.3997, 0.0000, 0.0000, 0.0000, 0.0000],\n",
      "        [1.3421, 1.6010, 1.8412, 0.0000, 0.0000, 0.0000],\n",
      "        [1.3731, 1.6379, 1.8836, 1.9211, 0.0000, 0.0000],\n",
      "        [1.5727, 1.8761, 2.1575, 2.2004, 2.5247, 0.0000],\n",
      "        [1.7724, 2.1142, 2.4314, 2.4797, 2.8452, 3.2107]])\n"
     ]
    }
   ],
   "source": [
    "attn_scores_lower = attn_scores.clone()\n",
    "attn_scores_lower[torch.triu_indices(*attn_scores_lower.shape, offset=1).unbind(0)] = 0\n",
    "print(attn_scores_lower)"
   ]
  },
  {
   "cell_type": "code",
   "execution_count": 28,
   "id": "9f7376ca",
   "metadata": {},
   "outputs": [
    {
     "name": "stdout",
     "output_type": "stream",
     "text": [
      "renormalized attn_scores_lower: tensor([[1.0000, 0.0000, 0.0000, 0.0000, 0.0000, 0.0000],\n",
      "        [0.4560, 0.5440, 0.0000, 0.0000, 0.0000, 0.0000],\n",
      "        [0.2805, 0.3346, 0.3848, 0.0000, 0.0000, 0.0000],\n",
      "        [0.2015, 0.2403, 0.2764, 0.2819, 0.0000, 0.0000],\n",
      "        [0.1522, 0.1816, 0.2088, 0.2130, 0.2444, 0.0000],\n",
      "        [0.1193, 0.1423, 0.1637, 0.1669, 0.1915, 0.2162]])\n"
     ]
    }
   ],
   "source": [
    "# renormalize the attention scores\n",
    "attn_scores_lower = attn_scores_lower / attn_scores_lower.sum(dim=1, keepdim=True)\n",
    "print(\"renormalized attn_scores_lower:\", attn_scores_lower)"
   ]
  },
  {
   "cell_type": "code",
   "execution_count": 29,
   "id": "e17d7fb2",
   "metadata": {},
   "outputs": [],
   "source": [
    "# this causes data leakage, so we will not use this in the future\n",
    "# but it is useful to understand how the attention mechanism works in a self-supervised manner"
   ]
  },
  {
   "cell_type": "code",
   "execution_count": 31,
   "id": "252af343",
   "metadata": {},
   "outputs": [
    {
     "name": "stdout",
     "output_type": "stream",
     "text": [
      "attn_scores_upper: tensor([[0.9811,   -inf,   -inf,   -inf,   -inf,   -inf],\n",
      "        [1.1734, 1.3997,   -inf,   -inf,   -inf,   -inf],\n",
      "        [1.3421, 1.6010, 1.8412,   -inf,   -inf,   -inf],\n",
      "        [1.3731, 1.6379, 1.8836, 1.9211,   -inf,   -inf],\n",
      "        [1.5727, 1.8761, 2.1575, 2.2004, 2.5247,   -inf],\n",
      "        [1.7724, 2.1142, 2.4314, 2.4797, 2.8452, 3.2107]])\n"
     ]
    }
   ],
   "source": [
    "# Set the upper triangular part of the attention scores to negative infinity\n",
    "attn_scores_upper = attn_scores.clone()\n",
    "attn_scores_upper[torch.triu_indices(*attn_scores_upper.shape, offset=1).unbind(0)] = float('-inf')\n",
    "print(\"attn_scores_upper:\", attn_scores_upper)"
   ]
  },
  {
   "cell_type": "code",
   "execution_count": 33,
   "id": "0fda50e5",
   "metadata": {},
   "outputs": [
    {
     "name": "stdout",
     "output_type": "stream",
     "text": [
      "renormalized attn_scores_upper: tensor([[1.0000, 0.0000, 0.0000, 0.0000, 0.0000, 0.0000],\n",
      "        [0.4437, 0.5563, 0.0000, 0.0000, 0.0000, 0.0000],\n",
      "        [0.2536, 0.3286, 0.4178, 0.0000, 0.0000, 0.0000],\n",
      "        [0.1755, 0.2287, 0.2924, 0.3035, 0.0000, 0.0000],\n",
      "        [0.1161, 0.1572, 0.2084, 0.2175, 0.3008, 0.0000],\n",
      "        [0.0740, 0.1042, 0.1431, 0.1502, 0.2165, 0.3120]])\n"
     ]
    }
   ],
   "source": [
    "#renormalize the attention scores\n",
    "attn_scores_upper = torch.softmax(attn_scores_upper, dim=1)\n",
    "print(\"renormalized attn_scores_upper:\", attn_scores_upper)"
   ]
  },
  {
   "cell_type": "code",
   "execution_count": null,
   "id": "0447bbc1",
   "metadata": {},
   "outputs": [],
   "source": [
    "# Now we will implement a causal attention mechanism with dropout\n",
    "class CausalSelfAttention(nn.Module):\n",
    "    def __init__(self, d_in, d_out, dropout=0.1):\n",
    "        super(CausalSelfAttention, self).__init__()\n",
    "        self.W_query = torch.nn.Parameter(torch.rand(d_in, d_out), requires_grad=False)\n",
    "        self.W_key = torch.nn.Parameter(torch.rand(d_in, d_out), requires_grad=False)\n",
    "        self.W_value = torch.nn.Parameter(torch.rand(d_in, d_out), requires_grad=False)\n",
    "        self.dropout = nn.Dropout(dropout)\n",
    "\n",
    "    def forward(self, inputs):\n",
    "        queries = inputs @ self.W_query\n",
    "        keys = inputs @ self.W_key\n",
    "        values = inputs @ self.W_value\n",
    "        \n",
    "        attn_scores = queries @ keys.T\n",
    "        attn_scores = attn_scores / (self.W_query.shape[1] ** 0.5)\n",
    "        \n",
    "        # Set the upper triangular part of the attention scores to negative infinity\n",
    "        attn_scores[torch.triu_indices(*attn_scores.shape, offset=1).unbind(0)] = float('-inf')\n",
    "        \n",
    "        attn_weights = torch.softmax(attn_scores, dim=1)\n",
    "        attn_weights = self.dropout(attn_weights)  # Apply dropout\n",
    "        \n",
    "        context = attn_weights @ values\n",
    "        return context"
   ]
  }
 ],
 "metadata": {
  "kernelspec": {
   "display_name": "Python 3",
   "language": "python",
   "name": "python3"
  },
  "language_info": {
   "codemirror_mode": {
    "name": "ipython",
    "version": 3
   },
   "file_extension": ".py",
   "mimetype": "text/x-python",
   "name": "python",
   "nbconvert_exporter": "python",
   "pygments_lexer": "ipython3",
   "version": "3.9.6"
  }
 },
 "nbformat": 4,
 "nbformat_minor": 5
}
