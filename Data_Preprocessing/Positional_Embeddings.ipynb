{
 "cells": [
  {
   "cell_type": "code",
   "execution_count": null,
   "id": "67655bab",
   "metadata": {},
   "outputs": [],
   "source": [
    "import torch"
   ]
  },
  {
   "cell_type": "code",
   "execution_count": null,
   "id": "c32c8c1c",
   "metadata": {},
   "outputs": [],
   "source": [
    "vocab_size =50257\n",
    "output_dim = 256\n",
    "\n",
    "token_embedding_layer = torch.nn.Embedding(vocab_size, output_dim)"
   ]
  },
  {
   "cell_type": "code",
   "execution_count": null,
   "id": "96b510c5",
   "metadata": {},
   "outputs": [],
   "source": [
    "max_length = 4\n",
    "dataloader = create_dataloader(raw_text, batch_size = 8, max_length=max_length, stride = max_length, shuffle=False) # from Dataloader.ipynb\n",
    "data_iter = iter(dataloader)\n",
    "inputs, targets = next(data_iter)"
   ]
  },
  {
   "cell_type": "code",
   "execution_count": null,
   "id": "b52b5dcb",
   "metadata": {},
   "outputs": [],
   "source": [
    "context_length = max_length\n",
    "pos_embedding_layer = torch.nn.Embedding(context_length, output_dim)"
   ]
  },
  {
   "cell_type": "code",
   "execution_count": null,
   "id": "10992311",
   "metadata": {},
   "outputs": [],
   "source": [
    "pos_embeddings =pos_embedding_layer(torch.arange(max_length))\n",
    "print(\"pos_embeddings.shape:\", pos_embeddings.shape)"
   ]
  },
  {
   "cell_type": "code",
   "execution_count": null,
   "id": "40350ed8",
   "metadata": {},
   "outputs": [],
   "source": [
    "# add the token embeddings and position embeddings to get the final embeddings."
   ]
  },
  {
   "cell_type": "code",
   "execution_count": null,
   "id": "535a2470",
   "metadata": {},
   "outputs": [],
   "source": []
  }
 ],
 "metadata": {
  "language_info": {
   "name": "python"
  }
 },
 "nbformat": 4,
 "nbformat_minor": 5
}
