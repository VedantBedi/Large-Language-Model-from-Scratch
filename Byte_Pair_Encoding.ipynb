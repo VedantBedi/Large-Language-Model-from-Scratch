{
 "cells": [
  {
   "cell_type": "code",
   "execution_count": 7,
   "id": "7b59cd25",
   "metadata": {},
   "outputs": [],
   "source": [
    "# Now we will do Byte Pair Encoding (BPE) on a text file using the tiktoken library-used by OpenAI.\n",
    "import importlib\n",
    "import tiktoken\n"
   ]
  },
  {
   "cell_type": "code",
   "execution_count": 8,
   "id": "5402d287",
   "metadata": {},
   "outputs": [],
   "source": [
    "tiktoken = tiktoken.get_encoding(\"gpt2\")\n",
    "#This is similar to the SimpleTokenizer2"
   ]
  },
  {
   "cell_type": "code",
   "execution_count": 10,
   "id": "4cf68494",
   "metadata": {},
   "outputs": [
    {
     "name": "stdout",
     "output_type": "stream",
     "text": [
      "Tokens: [1212, 318, 257, 1332, 13, 770, 318, 691, 257, 1332, 5633, 930, 27, 437, 1659, 5239, 29, 91]\n"
     ]
    }
   ],
   "source": [
    "text = \"This is a test. This is only a test ? |<endoftext>|\"\n",
    "tokens = tiktoken.encode(text)\n",
    "print(\"Tokens:\", tokens)"
   ]
  },
  {
   "cell_type": "code",
   "execution_count": 11,
   "id": "d7542e5a",
   "metadata": {},
   "outputs": [
    {
     "name": "stdout",
     "output_type": "stream",
     "text": [
      "String: This is a test. This is only a test ? |<endoftext>|\n"
     ]
    }
   ],
   "source": [
    "string = tiktoken.decode(tokens)\n",
    "print(\"String:\", string)"
   ]
  },
  {
   "cell_type": "code",
   "execution_count": 12,
   "id": "d52fff95",
   "metadata": {},
   "outputs": [
    {
     "name": "stdout",
     "output_type": "stream",
     "text": [
      "Tokens with unknown word: [1212, 318, 257, 1332, 13, 770, 318, 691, 257, 1332, 5633, 930, 27, 437, 1659, 5239, 29, 91, 15837, 824, 67, 8461, 16993, 73]\n"
     ]
    }
   ],
   "source": [
    "# Lets see how this tokenizer works with unkown words\n",
    "token = tiktoken.encode(\"This is a test. This is only a test ? |<endoftext>| AKssdniwdj\")\n",
    "print(\"Tokens with unknown word:\", token)"
   ]
  },
  {
   "cell_type": "code",
   "execution_count": 13,
   "id": "1fab3dbf",
   "metadata": {},
   "outputs": [
    {
     "name": "stdout",
     "output_type": "stream",
     "text": [
      "String: This is a test. This is only a test ? |<endoftext>|\n"
     ]
    }
   ],
   "source": [
    "string = tiktoken.decode(tokens)\n",
    "print(\"String:\", string)"
   ]
  },
  {
   "cell_type": "code",
   "execution_count": null,
   "id": "36b1677a",
   "metadata": {},
   "outputs": [],
   "source": []
  }
 ],
 "metadata": {
  "kernelspec": {
   "display_name": "Python 3",
   "language": "python",
   "name": "python3"
  },
  "language_info": {
   "codemirror_mode": {
    "name": "ipython",
    "version": 3
   },
   "file_extension": ".py",
   "mimetype": "text/x-python",
   "name": "python",
   "nbconvert_exporter": "python",
   "pygments_lexer": "ipython3",
   "version": "3.9.6"
  }
 },
 "nbformat": 4,
 "nbformat_minor": 5
}
