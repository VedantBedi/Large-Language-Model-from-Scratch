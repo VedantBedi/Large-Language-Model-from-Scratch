{
 "cells": [
  {
   "cell_type": "code",
   "execution_count": 9,
   "id": "4f1d33cf",
   "metadata": {},
   "outputs": [],
   "source": [
    "# Now we will do Byte Pair Encoding (BPE) on a text file using the tiktoken library-used by OpenAI.\n",
    "import importlib\n",
    "import tiktoken\n",
    "\n"
   ]
  },
  {
   "cell_type": "code",
   "execution_count": 10,
   "id": "49c6102f",
   "metadata": {},
   "outputs": [],
   "source": [
    "#implementing a dataloader\n",
    "from torch.utils.data import Dataset, DataLoader\n",
    "\n",
    "class TextDataset(Dataset):\n",
    "    def __init__(self, text,tokenizer, max_length, stride):\n",
    "        self.input_ids = []\n",
    "        self.target_ids = []\n",
    "\n",
    "        token_ids = tokenizer.encode(text)\n",
    "\n",
    "        for i in range(0, len(token_ids) - max_length, stride):\n",
    "            input_chunk = token_ids[i:i + max_length]\n",
    "            target_chunk = token_ids[i + 1:i + 1 + max_length]\n",
    "            self.input_ids.append(input_chunk)\n",
    "            self.target_ids.append(target_chunk)\n",
    "\n",
    "    def __len__(self):\n",
    "        return len(self.input_ids)\n",
    "    \n",
    "    def __getitem__(self, idx):\n",
    "        return self.input_ids[idx], self.target_ids[idx]\n",
    "    \n",
    "    \n",
    "    \n"
   ]
  },
  {
   "cell_type": "code",
   "execution_count": 11,
   "id": "2fc97aa9",
   "metadata": {},
   "outputs": [],
   "source": [
    "def create_dataloader(text, batch_size = 4, max_length = 256, stride = 128, shuffle = True, drop_last = True, num_workers = 0):\n",
    "    \n",
    "    tokenizer = tiktoken.get_encoding(\"gpt2\")\n",
    "    dataset = TextDataset(text, tokenizer, max_length, stride)\n",
    "    dataloader = DataLoader(dataset, batch_size=batch_size, shuffle=shuffle, drop_last=drop_last, num_workers=num_workers)\n",
    "    return dataloader\n"
   ]
  },
  {
   "cell_type": "code",
   "execution_count": 12,
   "id": "2c36e9b6",
   "metadata": {},
   "outputs": [
    {
     "name": "stdout",
     "output_type": "stream",
     "text": [
      "Skipped non-text file: .DS_Store\n"
     ]
    }
   ],
   "source": [
    "# Now we will create input target pairs for training. This is the last step before creating vector embeddings.\n",
    "#given a sentence, the input goes to the LLM and the target will be the last token to be predicted. the input increase over time as targets of the previous step are added to the input.\n",
    "import os\n",
    "data_folder = \"data\"\n",
    "raw_texts = []\n",
    "for filename in os.listdir(data_folder):\n",
    "    file_path = os.path.join(data_folder, filename)\n",
    "    if os.path.isfile(file_path):\n",
    "        try:\n",
    "            with open(file_path, \"r\", encoding=\"utf-8\") as f:\n",
    "                raw_texts.append(f.read())\n",
    "        except UnicodeDecodeError:\n",
    "            print(f\"Skipped non-text file: {filename}\")\n",
    "\n",
    "raw_text = \"\\n\".join(raw_texts)\n"
   ]
  },
  {
   "cell_type": "code",
   "execution_count": 13,
   "id": "ae84df49",
   "metadata": {},
   "outputs": [
    {
     "name": "stdout",
     "output_type": "stream",
     "text": [
      "First batch input tokens: [[tensor([ 257,  438,  373, 1200]), tensor([8258,  372, 1900,   13]), tensor([ 804, 7586,   13, 3244]), tensor([ 290, 1021, 2399,  339]), tensor([ 1139, 26834,    59,  1816]), tensor([ 59, 257, 198, 656]), tensor([  198,    59, 43561,   262]), tensor([11246,   198,  2913, 22634]), tensor([2618,   73, 1817, 3650]), tensor([3382, 1942,  581,  284]), tensor([ 284,  774, 4714,   59]), tensor([ 2740, 34967,   262,   198]), tensor([  284,   355,  1109, 17846]), tensor([683, 673, 326, 257]), tensor([ 2354, 24178,   339, 43836]), tensor([   13,   656,  2900, 38987]), tensor([705, 607, 510, 438]), tensor([3237, 2151,  287,  273]), tensor([ 826,  379, 2968, 3737]), tensor([4032,  262,   59,  691]), tensor([1139, 3420,  198,  257]), tensor([10018,    13,  2118,  5166]), tensor([  88,   59, 2899,  286]), tensor([  290,   198,  1187, 47291]), tensor([ 6140,    59,   351, 12163]), tensor([ 59, 198, 607, 438]), tensor([  198, 27202,   290,  6058]), tensor([ 1462, 22461,    11,   286]), tensor([ 651,  326, 4305,  616]), tensor([510, 319, 607,  59]), tensor([290, 616, 379, 198]), tensor([  314,   717,   257, 15234]), tensor([ 5954,  5585,  3084, 13744]), tensor([  683,   314,    11, 35776]), tensor([866, 550, 473, 321]), tensor([ 287, 9658,  403,  680]), tensor([ 465,  523, 4400, 1108]), tensor([5118, 2739,  546, 8097]), tensor([13, 11, 11, 13]), tensor([ 59, 314,  59,  59]), tensor([198,  59, 198, 198]), tensor([   59,   198, 17006,    59]), tensor([  198, 46416,   889,   198]), tensor([  1, 262, 351,  59]), tensor([ 705,  938, 4150,  198]), tensor([ 5756,   286, 15485,    38]), tensor([ 262,  402,  339, 1381]), tensor([19918,  1381,  2993,  1525]), tensor([1371, 1525,   13,  338]), tensor([1282,  338, 7486, 2156]), tensor([  287, 10650,   314,   373]), tensor([994, 508, 373, 991]), tensor([  611,   547, 11040,  6565]), tensor([  484, 49480,   284,   618]), tensor([ 765, 1088,  766,  314]), tensor([ 345,  683,  607, 1364]), tensor([ 11,  13, 314, 438]), tensor([10018,   314,    59,  1169]), tensor([  88,   59,  198, 8701]), tensor([   11,   198, 18108,   319]), tensor([475,  86, 645, 465]), tensor([  836,  4126,  6227, 21133]), tensor([470, 284, 284, 550]), tensor([ 345, 4727, 1826,   59]), tensor([ 11, 326, 607, 198]), tensor([   59,   314,   438, 22377]), tensor([ 198, 1549, 4360,  355]), tensor([  568, 34275,   314,   890]), tensor([1037,  329,  750,  355]), tensor([ 502,  683,   13, 6164]), tensor([  11, 1903,  314,   13]), tensor([1445,  287, 1816, 1881]), tensor([2354,  262,  510,  286]), tensor([ 428, 6180,  284,  262]), tensor([ 2119,   290,   968, 17536]), tensor([2637,  284, 1971, 6643]), tensor([ 59,  59, 351, 287]), tensor([ 198,  198, 4186,  262]), tensor([   59, 46407,   319,  7404]), tensor([ 198, 1096,   59, 1239]), tensor([  1, 329, 198,  59]), tensor([1026,  407, 1169,  198]), tensor([ 373, 1719, 4512,   83]), tensor([1440, 1900,  530,  566]), tensor([ 267,  683, 6672,  257]), tensor([    6,   287,   290, 14505]), tensor([15750,   262,   618,  1613]), tensor([  287, 11376,   356,   262]), tensor([  262,    13,  5025, 10384]), tensor([3329,   59,  416, 8946]), tensor([ 788,  198,  262, 1231]), tensor([   11,    59, 12530, 12225]), tensor([290, 198, 258, 329]), tensor([ 611,    1, 1686,  257]), tensor([ 356, 3987,  339, 5664]), tensor([ 1549,   470, 11687,   290]), tensor([ 286, 3068,   59,   59]), tensor([4376,  340,  198,  198]), tensor([ 262,  553, 1462, 4122]), tensor([7770,  339,  465,  278]), tensor([  82,  551, 3625, 2641]), tensor([   59, 46416,   290,    26]), tensor([ 198,  502, 2263, 3737]), tensor([  732, 30130,  1745,   340]), tensor([1549,   13,  286,  373]), tensor([286, 366, 616, 339]), tensor([ 1775,  3987, 22662,   508]), tensor([26010,   470,  7360, 10357]), tensor([  526,  1577,  4137, 40355]), tensor([ 59, 340, 502, 290]), tensor([ 198, 1194,  422,  402]), tensor([  59,   59,  262, 1381]), tensor([ 198,  198,   59, 1525]), tensor([    1, 28895,   198,   625]), tensor([11633,    11,  7718,   284]), tensor([ 339, 1468,   13,   59]), tensor([ 467, 6332,   59,  198]), tensor([ 1701,   526,   198, 25234]), tensor([  314,   383,    59, 14562]), tensor([1965, 5385,  198,  262]), tensor([7909, 5408,    1, 1755]), tensor([1473, 2714, 1135,  286]), tensor([ 13, 645, 821, 262]), tensor([  59,  517, 1972, 5778]), tensor([  198, 33065,   572,   290]), tensor([  59,   59, 2474, 3737]), tensor([198, 198, 339, 339]), tensor([    1, 14813, 11189,   550]), tensor([19457,   262,    13,   925]), tensor([ 339, 1021,  366,  257]), tensor([1816,  543,   40, 1621]), tensor([  553, 36450,   765,    59]), tensor([438, 306, 345, 198]), tensor([ 5246, 31782,   284, 10755]), tensor([  13,  616, 1826,  340]), tensor([8662, 8163,  616,  477]), tensor([7091,   13, 2576,  465]), tensor([320, 366, 526, 898]), tensor([ 338, 1870,   59,   13]), tensor([9686,  836,  198,  314]), tensor([30050,   470,    59,  1422]), tensor([ 379, 6044,  198,  470]), tensor([502,  59,  40, 765]), tensor([35187,   198,   892,   284]), tensor([3875,  732,  339, 3285]), tensor([ 438,  821, 1549,  340]), tensor([   1, 1016, 6873,  290]), tensor([1544,  510,  276,  314]), tensor([   59,   287,   510, 13941]), tensor([198, 262, 257, 683]), tensor([33886, 17173,   922,   618]), tensor([ 1088, 14382,  1730,   314]), tensor([ 287, 9439,  379,   59]), tensor([  262,  3329, 14678,   198]), tensor([ 3420,   379, 40556, 23442]), tensor([ 290, 5193,  290,  572]), tensor([1139,  267,  465,  262]), tensor([   11,     6, 12123,  4512]), tensor([  705, 15750,   284,    13]), tensor([3987,  526,   59,   59]), tensor([470,  59, 198, 198]), tensor([ 1309,   198, 14150,    59]), tensor([326,  59, 616, 198]), tensor([46612,   198,  1664,    40]), tensor([1011, 6423,  275, 3377]), tensor([ 1497,   262, 24071,   616]), tensor([  59,  475,  319, 3909]), tensor([  198,  1754,  3685, 12513]), tensor([1820,   11,   13,  287]), tensor([6891, 2157,  383,  968]), tensor([13679,   465,  2208,  1971]), tensor([3244, 8163, 2856,  780]), tensor([ 339, 7479,  699,  883]), tensor([ 1816,   198, 13196, 26852]), tensor([ 503,   59,  373, 3723]), tensor([319, 198, 326,  11]), tensor([  262,     1,    59, 41535]), tensor([24058, 42349,   198,    59]), tensor([ 290, 3382,  261,  198]), tensor([ 484,  345, 3502, 3911]), tensor([2823,  319, 6672,  444]), tensor([683, 262, 314, 286]), tensor([  59, 3072,  550,  465]), tensor([ 198,   11, 2147,  547]), tensor([15542, 15967,  1365,   351]), tensor([1661,  526,  284,  502]), tensor([287,  59, 466, 523]), tensor([  465,   198,    13, 46641]), tensor([1336,   59,   59,  326]), tensor([19921,   198,   198,   314]), tensor([290,   1,  59, 714]), tensor([10357,  3237,   198,   991]), tensor([1497,  826,   40, 3285]), tensor([ 526,   11, 3940,  262]), tensor([ 59, 287, 683,  59]), tensor([198, 257, 625, 198]), tensor([   59,  5664,   257, 28965]), tensor([ 198,   13, 1877,  290]), tensor([    1, 14026,  2330,   262]), tensor([15137,   606,    12, 20263]), tensor([  286,   314, 45462, 18107]), tensor([  606,  1183, 24337,   290]), tensor([  547,   307, 13990, 41106]), tensor([1742,  826,  290,  415]), tensor([12204,   612,   356,   422]), tensor([7241,   13, 6807,  465]), tensor([  553,   764,    59, 11376]), tensor([314, 764, 198, 290]), tensor([ 531,  764, 1891,  262]), tensor([ 11, 922, 257,  59]), tensor([24865,    59,  3470,   198]), tensor([   13,   198,  5695, 37993]), tensor([  59, 3847, 1863, 1016]), tensor([198, 526, 262, 510]), tensor([  59,   59, 2975,  290]), tensor([198, 198, 739, 866]), tensor([   1,   59, 9356,  465]), tensor([20029,   198, 45232,  3708]), tensor([351,   1, 293,  13]), tensor([40765, 10248,  7423,  1881]), tensor([ 526, 1755,  338, 1755]), tensor([ 2399,   526, 16218,   314]), tensor([18216,    59,    59,   750]), tensor([41408,   198,   198,  3285]), tensor([2900,   59,  301,  257]), tensor([ 284,  198,  533, 2587]), tensor([ 502,    1,   13, 1097]), tensor([  287, 10248,   383,    59]), tensor([ 281, 1755,  691,  198]), tensor([4609,  526, 2615, 8117]), tensor([835, 679, 287, 290]), tensor([   13, 13541,  6504,  2497]), tensor([ 59, 438, 373, 663]), tensor([ 198,  392,  257, 7588]), tensor([   1, 6451, 1402, 2245]), tensor([  40,  612, 2512,  379]), tensor([1833, 3947,  286,  465]), tensor([ 345,  284, 7872, 2166]), tensor([  821,   307, 17214,  4831]), tensor([2045,  257,   59,   13]), tensor([  329, 15497,   198,   887]), tensor([257,  59,  82, 314]), tensor([1597,  198, 2535, 1422]), tensor([35140, 12683,   319,   470]), tensor([12480,   811,   262,    59]), tensor([5378,  590, 5743,  198]), tensor([  526,   287,   286, 24859]), tensor([   59,  1719,   262, 10055]), tensor([ 198,  587, 7030,   13]), tensor([   59,  1871,  1956, 18578]), tensor([198, 262,  11, 340]), tensor([464, 938, 257, 373]), tensor([45273,   284,  3297,   617]), tensor([3507,  467,  286, 2457]), tensor([  286,    11, 16001,  8319]), tensor([ 777,  355, 8774,  508])], [tensor([8258,  372, 1900,   13]), tensor([ 804, 7586,   13, 3244]), tensor([ 290, 1021, 2399,  339]), tensor([ 1139, 26834,    59,  1816]), tensor([ 59, 257, 198, 656]), tensor([  198,    59, 43561,   262]), tensor([11246,   198,  2913, 22634]), tensor([2618,   73, 1817, 3650]), tensor([3382, 1942,  581,  284]), tensor([ 284,  774, 4714,   59]), tensor([ 2740, 34967,   262,   198]), tensor([  284,   355,  1109, 17846]), tensor([683, 673, 326, 257]), tensor([ 2354, 24178,   339, 43836]), tensor([   13,   656,  2900, 38987]), tensor([705, 607, 510, 438]), tensor([3237, 2151,  287,  273]), tensor([ 826,  379, 2968, 3737]), tensor([4032,  262,   59,  691]), tensor([1139, 3420,  198,  257]), tensor([10018,    13,  2118,  5166]), tensor([  88,   59, 2899,  286]), tensor([  290,   198,  1187, 47291]), tensor([ 6140,    59,   351, 12163]), tensor([ 59, 198, 607, 438]), tensor([  198, 27202,   290,  6058]), tensor([ 1462, 22461,    11,   286]), tensor([ 651,  326, 4305,  616]), tensor([510, 319, 607,  59]), tensor([290, 616, 379, 198]), tensor([  314,   717,   257, 15234]), tensor([ 5954,  5585,  3084, 13744]), tensor([  683,   314,    11, 35776]), tensor([866, 550, 473, 321]), tensor([ 287, 9658,  403,  680]), tensor([ 465,  523, 4400, 1108]), tensor([5118, 2739,  546, 8097]), tensor([13, 11, 11, 13]), tensor([ 59, 314,  59,  59]), tensor([198,  59, 198, 198]), tensor([   59,   198, 17006,    59]), tensor([  198, 46416,   889,   198]), tensor([  1, 262, 351,  59]), tensor([ 705,  938, 4150,  198]), tensor([ 5756,   286, 15485,    38]), tensor([ 262,  402,  339, 1381]), tensor([19918,  1381,  2993,  1525]), tensor([1371, 1525,   13,  338]), tensor([1282,  338, 7486, 2156]), tensor([  287, 10650,   314,   373]), tensor([994, 508, 373, 991]), tensor([  611,   547, 11040,  6565]), tensor([  484, 49480,   284,   618]), tensor([ 765, 1088,  766,  314]), tensor([ 345,  683,  607, 1364]), tensor([ 11,  13, 314, 438]), tensor([10018,   314,    59,  1169]), tensor([  88,   59,  198, 8701]), tensor([   11,   198, 18108,   319]), tensor([475,  86, 645, 465]), tensor([  836,  4126,  6227, 21133]), tensor([470, 284, 284, 550]), tensor([ 345, 4727, 1826,   59]), tensor([ 11, 326, 607, 198]), tensor([   59,   314,   438, 22377]), tensor([ 198, 1549, 4360,  355]), tensor([  568, 34275,   314,   890]), tensor([1037,  329,  750,  355]), tensor([ 502,  683,   13, 6164]), tensor([  11, 1903,  314,   13]), tensor([1445,  287, 1816, 1881]), tensor([2354,  262,  510,  286]), tensor([ 428, 6180,  284,  262]), tensor([ 2119,   290,   968, 17536]), tensor([2637,  284, 1971, 6643]), tensor([ 59,  59, 351, 287]), tensor([ 198,  198, 4186,  262]), tensor([   59, 46407,   319,  7404]), tensor([ 198, 1096,   59, 1239]), tensor([  1, 329, 198,  59]), tensor([1026,  407, 1169,  198]), tensor([ 373, 1719, 4512,   83]), tensor([1440, 1900,  530,  566]), tensor([ 267,  683, 6672,  257]), tensor([    6,   287,   290, 14505]), tensor([15750,   262,   618,  1613]), tensor([  287, 11376,   356,   262]), tensor([  262,    13,  5025, 10384]), tensor([3329,   59,  416, 8946]), tensor([ 788,  198,  262, 1231]), tensor([   11,    59, 12530, 12225]), tensor([290, 198, 258, 329]), tensor([ 611,    1, 1686,  257]), tensor([ 356, 3987,  339, 5664]), tensor([ 1549,   470, 11687,   290]), tensor([ 286, 3068,   59,   59]), tensor([4376,  340,  198,  198]), tensor([ 262,  553, 1462, 4122]), tensor([7770,  339,  465,  278]), tensor([  82,  551, 3625, 2641]), tensor([   59, 46416,   290,    26]), tensor([ 198,  502, 2263, 3737]), tensor([  732, 30130,  1745,   340]), tensor([1549,   13,  286,  373]), tensor([286, 366, 616, 339]), tensor([ 1775,  3987, 22662,   508]), tensor([26010,   470,  7360, 10357]), tensor([  526,  1577,  4137, 40355]), tensor([ 59, 340, 502, 290]), tensor([ 198, 1194,  422,  402]), tensor([  59,   59,  262, 1381]), tensor([ 198,  198,   59, 1525]), tensor([    1, 28895,   198,   625]), tensor([11633,    11,  7718,   284]), tensor([ 339, 1468,   13,   59]), tensor([ 467, 6332,   59,  198]), tensor([ 1701,   526,   198, 25234]), tensor([  314,   383,    59, 14562]), tensor([1965, 5385,  198,  262]), tensor([7909, 5408,    1, 1755]), tensor([1473, 2714, 1135,  286]), tensor([ 13, 645, 821, 262]), tensor([  59,  517, 1972, 5778]), tensor([  198, 33065,   572,   290]), tensor([  59,   59, 2474, 3737]), tensor([198, 198, 339, 339]), tensor([    1, 14813, 11189,   550]), tensor([19457,   262,    13,   925]), tensor([ 339, 1021,  366,  257]), tensor([1816,  543,   40, 1621]), tensor([  553, 36450,   765,    59]), tensor([438, 306, 345, 198]), tensor([ 5246, 31782,   284, 10755]), tensor([  13,  616, 1826,  340]), tensor([8662, 8163,  616,  477]), tensor([7091,   13, 2576,  465]), tensor([320, 366, 526, 898]), tensor([ 338, 1870,   59,   13]), tensor([9686,  836,  198,  314]), tensor([30050,   470,    59,  1422]), tensor([ 379, 6044,  198,  470]), tensor([502,  59,  40, 765]), tensor([35187,   198,   892,   284]), tensor([3875,  732,  339, 3285]), tensor([ 438,  821, 1549,  340]), tensor([   1, 1016, 6873,  290]), tensor([1544,  510,  276,  314]), tensor([   59,   287,   510, 13941]), tensor([198, 262, 257, 683]), tensor([33886, 17173,   922,   618]), tensor([ 1088, 14382,  1730,   314]), tensor([ 287, 9439,  379,   59]), tensor([  262,  3329, 14678,   198]), tensor([ 3420,   379, 40556, 23442]), tensor([ 290, 5193,  290,  572]), tensor([1139,  267,  465,  262]), tensor([   11,     6, 12123,  4512]), tensor([  705, 15750,   284,    13]), tensor([3987,  526,   59,   59]), tensor([470,  59, 198, 198]), tensor([ 1309,   198, 14150,    59]), tensor([326,  59, 616, 198]), tensor([46612,   198,  1664,    40]), tensor([1011, 6423,  275, 3377]), tensor([ 1497,   262, 24071,   616]), tensor([  59,  475,  319, 3909]), tensor([  198,  1754,  3685, 12513]), tensor([1820,   11,   13,  287]), tensor([6891, 2157,  383,  968]), tensor([13679,   465,  2208,  1971]), tensor([3244, 8163, 2856,  780]), tensor([ 339, 7479,  699,  883]), tensor([ 1816,   198, 13196, 26852]), tensor([ 503,   59,  373, 3723]), tensor([319, 198, 326,  11]), tensor([  262,     1,    59, 41535]), tensor([24058, 42349,   198,    59]), tensor([ 290, 3382,  261,  198]), tensor([ 484,  345, 3502, 3911]), tensor([2823,  319, 6672,  444]), tensor([683, 262, 314, 286]), tensor([  59, 3072,  550,  465]), tensor([ 198,   11, 2147,  547]), tensor([15542, 15967,  1365,   351]), tensor([1661,  526,  284,  502]), tensor([287,  59, 466, 523]), tensor([  465,   198,    13, 46641]), tensor([1336,   59,   59,  326]), tensor([19921,   198,   198,   314]), tensor([290,   1,  59, 714]), tensor([10357,  3237,   198,   991]), tensor([1497,  826,   40, 3285]), tensor([ 526,   11, 3940,  262]), tensor([ 59, 287, 683,  59]), tensor([198, 257, 625, 198]), tensor([   59,  5664,   257, 28965]), tensor([ 198,   13, 1877,  290]), tensor([    1, 14026,  2330,   262]), tensor([15137,   606,    12, 20263]), tensor([  286,   314, 45462, 18107]), tensor([  606,  1183, 24337,   290]), tensor([  547,   307, 13990, 41106]), tensor([1742,  826,  290,  415]), tensor([12204,   612,   356,   422]), tensor([7241,   13, 6807,  465]), tensor([  553,   764,    59, 11376]), tensor([314, 764, 198, 290]), tensor([ 531,  764, 1891,  262]), tensor([ 11, 922, 257,  59]), tensor([24865,    59,  3470,   198]), tensor([   13,   198,  5695, 37993]), tensor([  59, 3847, 1863, 1016]), tensor([198, 526, 262, 510]), tensor([  59,   59, 2975,  290]), tensor([198, 198, 739, 866]), tensor([   1,   59, 9356,  465]), tensor([20029,   198, 45232,  3708]), tensor([351,   1, 293,  13]), tensor([40765, 10248,  7423,  1881]), tensor([ 526, 1755,  338, 1755]), tensor([ 2399,   526, 16218,   314]), tensor([18216,    59,    59,   750]), tensor([41408,   198,   198,  3285]), tensor([2900,   59,  301,  257]), tensor([ 284,  198,  533, 2587]), tensor([ 502,    1,   13, 1097]), tensor([  287, 10248,   383,    59]), tensor([ 281, 1755,  691,  198]), tensor([4609,  526, 2615, 8117]), tensor([835, 679, 287, 290]), tensor([   13, 13541,  6504,  2497]), tensor([ 59, 438, 373, 663]), tensor([ 198,  392,  257, 7588]), tensor([   1, 6451, 1402, 2245]), tensor([  40,  612, 2512,  379]), tensor([1833, 3947,  286,  465]), tensor([ 345,  284, 7872, 2166]), tensor([  821,   307, 17214,  4831]), tensor([2045,  257,   59,   13]), tensor([  329, 15497,   198,   887]), tensor([257,  59,  82, 314]), tensor([1597,  198, 2535, 1422]), tensor([35140, 12683,   319,   470]), tensor([12480,   811,   262,    59]), tensor([5378,  590, 5743,  198]), tensor([  526,   287,   286, 24859]), tensor([   59,  1719,   262, 10055]), tensor([ 198,  587, 7030,   13]), tensor([   59,  1871,  1956, 18578]), tensor([198, 262,  11, 340]), tensor([464, 938, 257, 373]), tensor([45273,   284,  3297,   617]), tensor([3507,  467,  286, 2457]), tensor([  286,    11, 16001,  8319]), tensor([ 777,  355, 8774,  508]), tensor([ 734,  611, 3530,  550])]]\n"
     ]
    }
   ],
   "source": [
    "dataloader = create_dataloader(raw_text, batch_size=4, max_length=256, stride=128, shuffle=True, drop_last=True, num_workers=0)\n",
    "\n",
    "data_iter = iter(dataloader)\n",
    "first_batch = next(data_iter)\n",
    "print(\"First batch input tokens:\", first_batch)"
   ]
  },
  {
   "cell_type": "code",
   "execution_count": null,
   "id": "424bcf32",
   "metadata": {},
   "outputs": [],
   "source": []
  }
 ],
 "metadata": {
  "kernelspec": {
   "display_name": "Python 3",
   "language": "python",
   "name": "python3"
  },
  "language_info": {
   "codemirror_mode": {
    "name": "ipython",
    "version": 3
   },
   "file_extension": ".py",
   "mimetype": "text/x-python",
   "name": "python",
   "nbconvert_exporter": "python",
   "pygments_lexer": "ipython3",
   "version": "3.9.6"
  }
 },
 "nbformat": 4,
 "nbformat_minor": 5
}
